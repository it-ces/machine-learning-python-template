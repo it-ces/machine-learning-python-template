{
  "nbformat": 4,
  "nbformat_minor": 0,
  "metadata": {
    "colab": {
      "provenance": []
    },
    "kernelspec": {
      "name": "python3",
      "display_name": "Python 3"
    },
    "language_info": {
      "name": "python"
    }
  },
  "cells": [
    {
      "cell_type": "code",
      "execution_count": null,
      "metadata": {
        "id": "EOhDfWdM1Ipz"
      },
      "outputs": [],
      "source": [
        "# máximo\n",
        "# juan\n",
        "# diego"
      ]
    },
    {
      "cell_type": "markdown",
      "source": [
        "$$ B = (X^{T}X)^{-1} Xy$$"
      ],
      "metadata": {
        "id": "aehEaKGN1NJ7"
      }
    },
    {
      "cell_type": "code",
      "source": [
        "def beta(X,y):\n",
        "  return X.T*y"
      ],
      "metadata": {
        "id": "r0zua2Ev1U-L"
      },
      "execution_count": null,
      "outputs": []
    },
    {
      "cell_type": "code",
      "source": [
        "# hol amigos como va todo bien o que?"
      ],
      "metadata": {
        "id": "jIX3jwEv1cvh"
      },
      "execution_count": null,
      "outputs": []
    }
  ]
}